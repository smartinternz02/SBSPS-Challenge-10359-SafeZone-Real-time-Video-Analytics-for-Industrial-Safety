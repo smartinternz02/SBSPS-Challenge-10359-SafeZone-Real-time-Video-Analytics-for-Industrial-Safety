{
  "nbformat": 4,
  "nbformat_minor": 0,
  "metadata": {
    "colab": {
      "provenance": [],
      "gpuType": "T4"
    },
    "kernelspec": {
      "name": "python3",
      "display_name": "Python 3"
    },
    "language_info": {
      "name": "python"
    },
    "accelerator": "GPU"
  },
  "cells": [
    {
      "cell_type": "code",
      "execution_count": 1,
      "metadata": {
        "id": "79G3mSxumV62"
      },
      "outputs": [],
      "source": [
        "import os\n",
        "import glob\n",
        "from IPython.display import Image,display"
      ]
    },
    {
      "cell_type": "code",
      "source": [
        "!nvidia-smi"
      ],
      "metadata": {
        "colab": {
          "base_uri": "https://localhost:8080/"
        },
        "id": "Gqop4h6Fm3ln",
        "outputId": "064052ab-27f3-4bae-aac6-3925ccd86be0"
      },
      "execution_count": null,
      "outputs": [
        {
          "output_type": "stream",
          "name": "stdout",
          "text": [
            "Thu Aug 31 14:41:01 2023       \n",
            "+-----------------------------------------------------------------------------+\n",
            "| NVIDIA-SMI 525.105.17   Driver Version: 525.105.17   CUDA Version: 12.0     |\n",
            "|-------------------------------+----------------------+----------------------+\n",
            "| GPU  Name        Persistence-M| Bus-Id        Disp.A | Volatile Uncorr. ECC |\n",
            "| Fan  Temp  Perf  Pwr:Usage/Cap|         Memory-Usage | GPU-Util  Compute M. |\n",
            "|                               |                      |               MIG M. |\n",
            "|===============================+======================+======================|\n",
            "|   0  Tesla T4            Off  | 00000000:00:04.0 Off |                    0 |\n",
            "| N/A   50C    P8    10W /  70W |      0MiB / 15360MiB |      0%      Default |\n",
            "|                               |                      |                  N/A |\n",
            "+-------------------------------+----------------------+----------------------+\n",
            "                                                                               \n",
            "+-----------------------------------------------------------------------------+\n",
            "| Processes:                                                                  |\n",
            "|  GPU   GI   CI        PID   Type   Process name                  GPU Memory |\n",
            "|        ID   ID                                                   Usage      |\n",
            "|=============================================================================|\n",
            "|  No running processes found                                                 |\n",
            "+-----------------------------------------------------------------------------+\n"
          ]
        }
      ]
    },
    {
      "cell_type": "code",
      "source": [
        "HOME=os.getcwd()"
      ],
      "metadata": {
        "id": "YbWyd9FEn1Lp"
      },
      "execution_count": null,
      "outputs": []
    },
    {
      "cell_type": "code",
      "source": [
        "print(HOME)"
      ],
      "metadata": {
        "colab": {
          "base_uri": "https://localhost:8080/"
        },
        "id": "5CVhUEqSoFOs",
        "outputId": "e1ee8de8-8b61-4cbf-b9c7-2c6fe2da9556"
      },
      "execution_count": null,
      "outputs": [
        {
          "output_type": "stream",
          "name": "stdout",
          "text": [
            "/content\n"
          ]
        }
      ]
    },
    {
      "cell_type": "code",
      "source": [
        "pip install ultralytics==8.0.0"
      ],
      "metadata": {
        "colab": {
          "base_uri": "https://localhost:8080/",
          "height": 1000
        },
        "id": "NnXPwHQBoPI9",
        "outputId": "782be91b-5708-42bd-ac67-36dc30113513"
      },
      "execution_count": 2,
      "outputs": [
        {
          "output_type": "stream",
          "name": "stdout",
          "text": [
            "Collecting ultralytics==8.0.0\n",
            "  Downloading ultralytics-8.0.0-py3-none-any.whl (219 kB)\n",
            "\u001b[2K     \u001b[90m━━━━━━━━━━━━━━━━━━━━━━━━━━━━━━━━━━━━━━━\u001b[0m \u001b[32m219.8/219.8 kB\u001b[0m \u001b[31m4.9 MB/s\u001b[0m eta \u001b[36m0:00:00\u001b[0m\n",
            "\u001b[?25hCollecting hydra-core>=1.2.0 (from ultralytics==8.0.0)\n",
            "  Downloading hydra_core-1.3.2-py3-none-any.whl (154 kB)\n",
            "\u001b[2K     \u001b[90m━━━━━━━━━━━━━━━━━━━━━━━━━━━━━━━━━━━━━━\u001b[0m \u001b[32m154.5/154.5 kB\u001b[0m \u001b[31m10.1 MB/s\u001b[0m eta \u001b[36m0:00:00\u001b[0m\n",
            "\u001b[?25hRequirement already satisfied: matplotlib>=3.2.2 in /usr/local/lib/python3.10/dist-packages (from ultralytics==8.0.0) (3.7.1)\n",
            "Requirement already satisfied: numpy>=1.18.5 in /usr/local/lib/python3.10/dist-packages (from ultralytics==8.0.0) (1.23.5)\n",
            "Requirement already satisfied: opencv-python>=4.1.1 in /usr/local/lib/python3.10/dist-packages (from ultralytics==8.0.0) (4.8.0.76)\n",
            "Requirement already satisfied: Pillow>=7.1.2 in /usr/local/lib/python3.10/dist-packages (from ultralytics==8.0.0) (9.4.0)\n",
            "Requirement already satisfied: PyYAML>=5.3.1 in /usr/local/lib/python3.10/dist-packages (from ultralytics==8.0.0) (6.0.1)\n",
            "Requirement already satisfied: requests>=2.23.0 in /usr/local/lib/python3.10/dist-packages (from ultralytics==8.0.0) (2.31.0)\n",
            "Requirement already satisfied: scipy>=1.4.1 in /usr/local/lib/python3.10/dist-packages (from ultralytics==8.0.0) (1.10.1)\n",
            "Requirement already satisfied: torch>=1.7.0 in /usr/local/lib/python3.10/dist-packages (from ultralytics==8.0.0) (2.0.1+cu118)\n",
            "Requirement already satisfied: torchvision>=0.8.1 in /usr/local/lib/python3.10/dist-packages (from ultralytics==8.0.0) (0.15.2+cu118)\n",
            "Requirement already satisfied: tqdm>=4.64.0 in /usr/local/lib/python3.10/dist-packages (from ultralytics==8.0.0) (4.66.1)\n",
            "Requirement already satisfied: tensorboard>=2.4.1 in /usr/local/lib/python3.10/dist-packages (from ultralytics==8.0.0) (2.12.3)\n",
            "Requirement already satisfied: pandas>=1.1.4 in /usr/local/lib/python3.10/dist-packages (from ultralytics==8.0.0) (1.5.3)\n",
            "Requirement already satisfied: seaborn>=0.11.0 in /usr/local/lib/python3.10/dist-packages (from ultralytics==8.0.0) (0.12.2)\n",
            "Requirement already satisfied: ipython in /usr/local/lib/python3.10/dist-packages (from ultralytics==8.0.0) (7.34.0)\n",
            "Requirement already satisfied: psutil in /usr/local/lib/python3.10/dist-packages (from ultralytics==8.0.0) (5.9.5)\n",
            "Collecting thop>=0.1.1 (from ultralytics==8.0.0)\n",
            "  Downloading thop-0.1.1.post2209072238-py3-none-any.whl (15 kB)\n",
            "Collecting GitPython>=3.1.24 (from ultralytics==8.0.0)\n",
            "  Downloading GitPython-3.1.34-py3-none-any.whl (188 kB)\n",
            "\u001b[2K     \u001b[90m━━━━━━━━━━━━━━━━━━━━━━━━━━━━━━━━━━━━━━\u001b[0m \u001b[32m188.6/188.6 kB\u001b[0m \u001b[31m13.9 MB/s\u001b[0m eta \u001b[36m0:00:00\u001b[0m\n",
            "\u001b[?25hCollecting gitdb<5,>=4.0.1 (from GitPython>=3.1.24->ultralytics==8.0.0)\n",
            "  Downloading gitdb-4.0.10-py3-none-any.whl (62 kB)\n",
            "\u001b[2K     \u001b[90m━━━━━━━━━━━━━━━━━━━━━━━━━━━━━━━━━━━━━━━━\u001b[0m \u001b[32m62.7/62.7 kB\u001b[0m \u001b[31m8.6 MB/s\u001b[0m eta \u001b[36m0:00:00\u001b[0m\n",
            "\u001b[?25hCollecting omegaconf<2.4,>=2.2 (from hydra-core>=1.2.0->ultralytics==8.0.0)\n",
            "  Downloading omegaconf-2.3.0-py3-none-any.whl (79 kB)\n",
            "\u001b[2K     \u001b[90m━━━━━━━━━━━━━━━━━━━━━━━━━━━━━━━━━━━━━━━━\u001b[0m \u001b[32m79.5/79.5 kB\u001b[0m \u001b[31m9.5 MB/s\u001b[0m eta \u001b[36m0:00:00\u001b[0m\n",
            "\u001b[?25hCollecting antlr4-python3-runtime==4.9.* (from hydra-core>=1.2.0->ultralytics==8.0.0)\n",
            "  Downloading antlr4-python3-runtime-4.9.3.tar.gz (117 kB)\n",
            "\u001b[2K     \u001b[90m━━━━━━━━━━━━━━━━━━━━━━━━━━━━━━━━━━━━━━\u001b[0m \u001b[32m117.0/117.0 kB\u001b[0m \u001b[31m10.5 MB/s\u001b[0m eta \u001b[36m0:00:00\u001b[0m\n",
            "\u001b[?25h  Preparing metadata (setup.py) ... \u001b[?25l\u001b[?25hdone\n",
            "Requirement already satisfied: packaging in /usr/local/lib/python3.10/dist-packages (from hydra-core>=1.2.0->ultralytics==8.0.0) (23.1)\n",
            "Requirement already satisfied: contourpy>=1.0.1 in /usr/local/lib/python3.10/dist-packages (from matplotlib>=3.2.2->ultralytics==8.0.0) (1.1.0)\n",
            "Requirement already satisfied: cycler>=0.10 in /usr/local/lib/python3.10/dist-packages (from matplotlib>=3.2.2->ultralytics==8.0.0) (0.11.0)\n",
            "Requirement already satisfied: fonttools>=4.22.0 in /usr/local/lib/python3.10/dist-packages (from matplotlib>=3.2.2->ultralytics==8.0.0) (4.42.1)\n",
            "Requirement already satisfied: kiwisolver>=1.0.1 in /usr/local/lib/python3.10/dist-packages (from matplotlib>=3.2.2->ultralytics==8.0.0) (1.4.4)\n",
            "Requirement already satisfied: pyparsing>=2.3.1 in /usr/local/lib/python3.10/dist-packages (from matplotlib>=3.2.2->ultralytics==8.0.0) (3.1.1)\n",
            "Requirement already satisfied: python-dateutil>=2.7 in /usr/local/lib/python3.10/dist-packages (from matplotlib>=3.2.2->ultralytics==8.0.0) (2.8.2)\n",
            "Requirement already satisfied: pytz>=2020.1 in /usr/local/lib/python3.10/dist-packages (from pandas>=1.1.4->ultralytics==8.0.0) (2023.3)\n",
            "Requirement already satisfied: charset-normalizer<4,>=2 in /usr/local/lib/python3.10/dist-packages (from requests>=2.23.0->ultralytics==8.0.0) (3.2.0)\n",
            "Requirement already satisfied: idna<4,>=2.5 in /usr/local/lib/python3.10/dist-packages (from requests>=2.23.0->ultralytics==8.0.0) (3.4)\n",
            "Requirement already satisfied: urllib3<3,>=1.21.1 in /usr/local/lib/python3.10/dist-packages (from requests>=2.23.0->ultralytics==8.0.0) (2.0.4)\n",
            "Requirement already satisfied: certifi>=2017.4.17 in /usr/local/lib/python3.10/dist-packages (from requests>=2.23.0->ultralytics==8.0.0) (2023.7.22)\n",
            "Requirement already satisfied: absl-py>=0.4 in /usr/local/lib/python3.10/dist-packages (from tensorboard>=2.4.1->ultralytics==8.0.0) (1.4.0)\n",
            "Requirement already satisfied: grpcio>=1.48.2 in /usr/local/lib/python3.10/dist-packages (from tensorboard>=2.4.1->ultralytics==8.0.0) (1.57.0)\n",
            "Requirement already satisfied: google-auth<3,>=1.6.3 in /usr/local/lib/python3.10/dist-packages (from tensorboard>=2.4.1->ultralytics==8.0.0) (2.17.3)\n",
            "Requirement already satisfied: google-auth-oauthlib<1.1,>=0.5 in /usr/local/lib/python3.10/dist-packages (from tensorboard>=2.4.1->ultralytics==8.0.0) (1.0.0)\n",
            "Requirement already satisfied: markdown>=2.6.8 in /usr/local/lib/python3.10/dist-packages (from tensorboard>=2.4.1->ultralytics==8.0.0) (3.4.4)\n",
            "Requirement already satisfied: protobuf>=3.19.6 in /usr/local/lib/python3.10/dist-packages (from tensorboard>=2.4.1->ultralytics==8.0.0) (3.20.3)\n",
            "Requirement already satisfied: setuptools>=41.0.0 in /usr/local/lib/python3.10/dist-packages (from tensorboard>=2.4.1->ultralytics==8.0.0) (67.7.2)\n",
            "Requirement already satisfied: tensorboard-data-server<0.8.0,>=0.7.0 in /usr/local/lib/python3.10/dist-packages (from tensorboard>=2.4.1->ultralytics==8.0.0) (0.7.1)\n",
            "Requirement already satisfied: werkzeug>=1.0.1 in /usr/local/lib/python3.10/dist-packages (from tensorboard>=2.4.1->ultralytics==8.0.0) (2.3.7)\n",
            "Requirement already satisfied: wheel>=0.26 in /usr/local/lib/python3.10/dist-packages (from tensorboard>=2.4.1->ultralytics==8.0.0) (0.41.2)\n",
            "Requirement already satisfied: filelock in /usr/local/lib/python3.10/dist-packages (from torch>=1.7.0->ultralytics==8.0.0) (3.12.2)\n",
            "Requirement already satisfied: typing-extensions in /usr/local/lib/python3.10/dist-packages (from torch>=1.7.0->ultralytics==8.0.0) (4.7.1)\n",
            "Requirement already satisfied: sympy in /usr/local/lib/python3.10/dist-packages (from torch>=1.7.0->ultralytics==8.0.0) (1.12)\n",
            "Requirement already satisfied: networkx in /usr/local/lib/python3.10/dist-packages (from torch>=1.7.0->ultralytics==8.0.0) (3.1)\n",
            "Requirement already satisfied: jinja2 in /usr/local/lib/python3.10/dist-packages (from torch>=1.7.0->ultralytics==8.0.0) (3.1.2)\n",
            "Requirement already satisfied: triton==2.0.0 in /usr/local/lib/python3.10/dist-packages (from torch>=1.7.0->ultralytics==8.0.0) (2.0.0)\n",
            "Requirement already satisfied: cmake in /usr/local/lib/python3.10/dist-packages (from triton==2.0.0->torch>=1.7.0->ultralytics==8.0.0) (3.27.2)\n",
            "Requirement already satisfied: lit in /usr/local/lib/python3.10/dist-packages (from triton==2.0.0->torch>=1.7.0->ultralytics==8.0.0) (16.0.6)\n",
            "Collecting jedi>=0.16 (from ipython->ultralytics==8.0.0)\n",
            "  Downloading jedi-0.19.0-py2.py3-none-any.whl (1.6 MB)\n",
            "\u001b[2K     \u001b[90m━━━━━━━━━━━━━━━━━━━━━━━━━━━━━━━━━━━━━━━━\u001b[0m \u001b[32m1.6/1.6 MB\u001b[0m \u001b[31m24.1 MB/s\u001b[0m eta \u001b[36m0:00:00\u001b[0m\n",
            "\u001b[?25hRequirement already satisfied: decorator in /usr/local/lib/python3.10/dist-packages (from ipython->ultralytics==8.0.0) (4.4.2)\n",
            "Requirement already satisfied: pickleshare in /usr/local/lib/python3.10/dist-packages (from ipython->ultralytics==8.0.0) (0.7.5)\n",
            "Requirement already satisfied: traitlets>=4.2 in /usr/local/lib/python3.10/dist-packages (from ipython->ultralytics==8.0.0) (5.7.1)\n",
            "Requirement already satisfied: prompt-toolkit!=3.0.0,!=3.0.1,<3.1.0,>=2.0.0 in /usr/local/lib/python3.10/dist-packages (from ipython->ultralytics==8.0.0) (3.0.39)\n",
            "Requirement already satisfied: pygments in /usr/local/lib/python3.10/dist-packages (from ipython->ultralytics==8.0.0) (2.16.1)\n",
            "Requirement already satisfied: backcall in /usr/local/lib/python3.10/dist-packages (from ipython->ultralytics==8.0.0) (0.2.0)\n",
            "Requirement already satisfied: matplotlib-inline in /usr/local/lib/python3.10/dist-packages (from ipython->ultralytics==8.0.0) (0.1.6)\n",
            "Requirement already satisfied: pexpect>4.3 in /usr/local/lib/python3.10/dist-packages (from ipython->ultralytics==8.0.0) (4.8.0)\n",
            "Collecting smmap<6,>=3.0.1 (from gitdb<5,>=4.0.1->GitPython>=3.1.24->ultralytics==8.0.0)\n",
            "  Downloading smmap-5.0.0-py3-none-any.whl (24 kB)\n",
            "Requirement already satisfied: cachetools<6.0,>=2.0.0 in /usr/local/lib/python3.10/dist-packages (from google-auth<3,>=1.6.3->tensorboard>=2.4.1->ultralytics==8.0.0) (5.3.1)\n",
            "Requirement already satisfied: pyasn1-modules>=0.2.1 in /usr/local/lib/python3.10/dist-packages (from google-auth<3,>=1.6.3->tensorboard>=2.4.1->ultralytics==8.0.0) (0.3.0)\n",
            "Requirement already satisfied: six>=1.9.0 in /usr/local/lib/python3.10/dist-packages (from google-auth<3,>=1.6.3->tensorboard>=2.4.1->ultralytics==8.0.0) (1.16.0)\n",
            "Requirement already satisfied: rsa<5,>=3.1.4 in /usr/local/lib/python3.10/dist-packages (from google-auth<3,>=1.6.3->tensorboard>=2.4.1->ultralytics==8.0.0) (4.9)\n",
            "Requirement already satisfied: requests-oauthlib>=0.7.0 in /usr/local/lib/python3.10/dist-packages (from google-auth-oauthlib<1.1,>=0.5->tensorboard>=2.4.1->ultralytics==8.0.0) (1.3.1)\n",
            "Requirement already satisfied: parso<0.9.0,>=0.8.3 in /usr/local/lib/python3.10/dist-packages (from jedi>=0.16->ipython->ultralytics==8.0.0) (0.8.3)\n",
            "Requirement already satisfied: ptyprocess>=0.5 in /usr/local/lib/python3.10/dist-packages (from pexpect>4.3->ipython->ultralytics==8.0.0) (0.7.0)\n",
            "Requirement already satisfied: wcwidth in /usr/local/lib/python3.10/dist-packages (from prompt-toolkit!=3.0.0,!=3.0.1,<3.1.0,>=2.0.0->ipython->ultralytics==8.0.0) (0.2.6)\n",
            "Requirement already satisfied: MarkupSafe>=2.1.1 in /usr/local/lib/python3.10/dist-packages (from werkzeug>=1.0.1->tensorboard>=2.4.1->ultralytics==8.0.0) (2.1.3)\n",
            "Requirement already satisfied: mpmath>=0.19 in /usr/local/lib/python3.10/dist-packages (from sympy->torch>=1.7.0->ultralytics==8.0.0) (1.3.0)\n",
            "Requirement already satisfied: pyasn1<0.6.0,>=0.4.6 in /usr/local/lib/python3.10/dist-packages (from pyasn1-modules>=0.2.1->google-auth<3,>=1.6.3->tensorboard>=2.4.1->ultralytics==8.0.0) (0.5.0)\n",
            "Requirement already satisfied: oauthlib>=3.0.0 in /usr/local/lib/python3.10/dist-packages (from requests-oauthlib>=0.7.0->google-auth-oauthlib<1.1,>=0.5->tensorboard>=2.4.1->ultralytics==8.0.0) (3.2.2)\n",
            "Building wheels for collected packages: antlr4-python3-runtime\n",
            "  Building wheel for antlr4-python3-runtime (setup.py) ... \u001b[?25l\u001b[?25hdone\n",
            "  Created wheel for antlr4-python3-runtime: filename=antlr4_python3_runtime-4.9.3-py3-none-any.whl size=144554 sha256=f0bdf89c956236ae6dbbe37584b23e808f9d84df7f76eb7336e3ceb8b99cf52c\n",
            "  Stored in directory: /root/.cache/pip/wheels/12/93/dd/1f6a127edc45659556564c5730f6d4e300888f4bca2d4c5a88\n",
            "Successfully built antlr4-python3-runtime\n",
            "Installing collected packages: antlr4-python3-runtime, smmap, omegaconf, jedi, hydra-core, gitdb, GitPython, thop, ultralytics\n",
            "Successfully installed GitPython-3.1.34 antlr4-python3-runtime-4.9.3 gitdb-4.0.10 hydra-core-1.3.2 jedi-0.19.0 omegaconf-2.3.0 smmap-5.0.0 thop-0.1.1.post2209072238 ultralytics-8.0.0\n"
          ]
        },
        {
          "output_type": "display_data",
          "data": {
            "application/vnd.colab-display-data+json": {
              "pip_warning": {
                "packages": [
                  "pydevd_plugins"
                ]
              }
            }
          },
          "metadata": {}
        }
      ]
    },
    {
      "cell_type": "code",
      "source": [
        "import ultralytics"
      ],
      "metadata": {
        "id": "RNySwqmwqJmj"
      },
      "execution_count": 3,
      "outputs": []
    },
    {
      "cell_type": "code",
      "source": [
        "!mkdir /content/datasets"
      ],
      "metadata": {
        "id": "KSaB33a6svSe"
      },
      "execution_count": 4,
      "outputs": []
    },
    {
      "cell_type": "code",
      "source": [
        "!pwd"
      ],
      "metadata": {
        "colab": {
          "base_uri": "https://localhost:8080/"
        },
        "id": "JGFhsoo0s65_",
        "outputId": "b74827d6-4b8a-419e-86e6-b8748128f099"
      },
      "execution_count": null,
      "outputs": [
        {
          "output_type": "stream",
          "name": "stdout",
          "text": [
            "/content\n"
          ]
        }
      ]
    },
    {
      "cell_type": "code",
      "source": [
        "%cd datasets"
      ],
      "metadata": {
        "colab": {
          "base_uri": "https://localhost:8080/"
        },
        "id": "NlGFFN4qs90z",
        "outputId": "9ee9c6a7-485e-46ae-9dc7-c2e8e0f7f816"
      },
      "execution_count": 5,
      "outputs": [
        {
          "output_type": "stream",
          "name": "stdout",
          "text": [
            "/content/datasets\n"
          ]
        }
      ]
    },
    {
      "cell_type": "code",
      "source": [
        "!pwd"
      ],
      "metadata": {
        "colab": {
          "base_uri": "https://localhost:8080/"
        },
        "id": "0bOv80fbtD46",
        "outputId": "1dd42c92-4c5d-4779-ff10-c8a131da5285"
      },
      "execution_count": null,
      "outputs": [
        {
          "output_type": "stream",
          "name": "stdout",
          "text": [
            "/content/datasets\n"
          ]
        }
      ]
    },
    {
      "cell_type": "code",
      "source": [
        "!pip install roboflow\n",
        "\n",
        "from roboflow import Roboflow\n",
        "rf = Roboflow(api_key=\"m4TUWfdvaaq7ZERlVblO\")\n",
        "project = rf.workspace(\"ibm-xyxj6\").project(\"people-ou8l4\")\n",
        "dataset = project.version(3).download(\"yolov5\")\n",
        "\n"
      ],
      "metadata": {
        "id": "en59f33YtF92",
        "colab": {
          "base_uri": "https://localhost:8080/"
        },
        "outputId": "028fbf76-1836-4d52-fa92-a1430299c71c"
      },
      "execution_count": 18,
      "outputs": [
        {
          "output_type": "stream",
          "name": "stdout",
          "text": [
            "Requirement already satisfied: roboflow in /usr/local/lib/python3.10/dist-packages (1.1.4)\n",
            "Requirement already satisfied: certifi==2022.12.7 in /usr/local/lib/python3.10/dist-packages (from roboflow) (2022.12.7)\n",
            "Requirement already satisfied: chardet==4.0.0 in /usr/local/lib/python3.10/dist-packages (from roboflow) (4.0.0)\n",
            "Requirement already satisfied: cycler==0.10.0 in /usr/local/lib/python3.10/dist-packages (from roboflow) (0.10.0)\n",
            "Requirement already satisfied: idna==2.10 in /usr/local/lib/python3.10/dist-packages (from roboflow) (2.10)\n",
            "Requirement already satisfied: kiwisolver>=1.3.1 in /usr/local/lib/python3.10/dist-packages (from roboflow) (1.4.4)\n",
            "Requirement already satisfied: matplotlib in /usr/local/lib/python3.10/dist-packages (from roboflow) (3.7.1)\n",
            "Requirement already satisfied: numpy>=1.18.5 in /usr/local/lib/python3.10/dist-packages (from roboflow) (1.23.5)\n",
            "Requirement already satisfied: opencv-python>=4.1.2 in /usr/local/lib/python3.10/dist-packages (from roboflow) (4.8.0.76)\n",
            "Requirement already satisfied: Pillow>=7.1.2 in /usr/local/lib/python3.10/dist-packages (from roboflow) (9.4.0)\n",
            "Requirement already satisfied: pyparsing==2.4.7 in /usr/local/lib/python3.10/dist-packages (from roboflow) (2.4.7)\n",
            "Requirement already satisfied: python-dateutil in /usr/local/lib/python3.10/dist-packages (from roboflow) (2.8.2)\n",
            "Requirement already satisfied: python-dotenv in /usr/local/lib/python3.10/dist-packages (from roboflow) (1.0.0)\n",
            "Requirement already satisfied: requests in /usr/local/lib/python3.10/dist-packages (from roboflow) (2.31.0)\n",
            "Requirement already satisfied: six in /usr/local/lib/python3.10/dist-packages (from roboflow) (1.16.0)\n",
            "Requirement already satisfied: supervision in /usr/local/lib/python3.10/dist-packages (from roboflow) (0.14.0)\n",
            "Requirement already satisfied: urllib3>=1.26.6 in /usr/local/lib/python3.10/dist-packages (from roboflow) (2.0.4)\n",
            "Requirement already satisfied: wget in /usr/local/lib/python3.10/dist-packages (from roboflow) (3.2)\n",
            "Requirement already satisfied: tqdm>=4.41.0 in /usr/local/lib/python3.10/dist-packages (from roboflow) (4.66.1)\n",
            "Requirement already satisfied: PyYAML>=5.3.1 in /usr/local/lib/python3.10/dist-packages (from roboflow) (6.0.1)\n",
            "Requirement already satisfied: requests-toolbelt in /usr/local/lib/python3.10/dist-packages (from roboflow) (1.0.0)\n",
            "Requirement already satisfied: contourpy>=1.0.1 in /usr/local/lib/python3.10/dist-packages (from matplotlib->roboflow) (1.1.0)\n",
            "Requirement already satisfied: fonttools>=4.22.0 in /usr/local/lib/python3.10/dist-packages (from matplotlib->roboflow) (4.42.1)\n",
            "Requirement already satisfied: packaging>=20.0 in /usr/local/lib/python3.10/dist-packages (from matplotlib->roboflow) (23.1)\n",
            "Requirement already satisfied: charset-normalizer<4,>=2 in /usr/local/lib/python3.10/dist-packages (from requests->roboflow) (3.2.0)\n",
            "Requirement already satisfied: opencv-python-headless<5.0.0.0,>=4.8.0.74 in /usr/local/lib/python3.10/dist-packages (from supervision->roboflow) (4.8.0.76)\n",
            "Requirement already satisfied: scipy<2.0.0,>=1.9.0 in /usr/local/lib/python3.10/dist-packages (from supervision->roboflow) (1.10.1)\n",
            "loading Roboflow workspace...\n",
            "loading Roboflow project...\n",
            "Downloading Dataset Version Zip in people-3 to yolov5pytorch: 80% [36765696 / 45745478] bytes"
          ]
        },
        {
          "output_type": "stream",
          "name": "stderr",
          "text": [
            "Extracting Dataset Version Zip to people-3 in yolov5pytorch:: 100%|██████████| 2924/2924 [00:00<00:00, 3912.55it/s]\n"
          ]
        }
      ]
    },
    {
      "cell_type": "code",
      "source": [
        "%cd (dataset.location)"
      ],
      "metadata": {
        "id": "JhS3IgTVxlnn",
        "colab": {
          "base_uri": "https://localhost:8080/"
        },
        "outputId": "345b913f-2672-4c93-83b8-bda383fcb733"
      },
      "execution_count": null,
      "outputs": [
        {
          "output_type": "stream",
          "name": "stdout",
          "text": [
            "[Errno 2] No such file or directory: '(dataset.location)'\n",
            "/content/datasets\n"
          ]
        }
      ]
    },
    {
      "cell_type": "code",
      "source": [
        "!yolo task=detect mode=train model=yolov8m.pt data=/content/datasets/people-3/data.yaml epochs=20 imgsz=640"
      ],
      "metadata": {
        "colab": {
          "base_uri": "https://localhost:8080/"
        },
        "id": "Nc-khhFQ2LOE",
        "outputId": "0ca377c9-696d-4185-bbe7-0f456141f7b3"
      },
      "execution_count": 19,
      "outputs": [
        {
          "output_type": "stream",
          "name": "stdout",
          "text": [
            "\u001b[34m\u001b[1myolo/engine/trainer: \u001b[0mtask=detect, mode=train, model=yolov8m.pt, data=/content/datasets/people-3/data.yaml, epochs=20, patience=50, batch=16, imgsz=640, save=True, cache=False, device=None, workers=8, project=None, name=None, exist_ok=False, pretrained=False, optimizer=SGD, verbose=False, seed=0, deterministic=True, single_cls=False, image_weights=False, rect=False, cos_lr=False, close_mosaic=10, resume=False, overlap_mask=True, mask_ratio=4, dropout=0.0, val=True, save_json=False, save_hybrid=False, conf=None, iou=0.7, max_det=300, half=False, dnn=False, plots=True, source=None, show=False, save_txt=False, save_conf=False, save_crop=False, hide_labels=False, hide_conf=False, vid_stride=1, line_thickness=3, visualize=False, augment=False, agnostic_nms=False, retina_masks=False, format=torchscript, keras=False, optimize=False, int8=False, dynamic=False, simplify=False, opset=17, workspace=4, nms=False, lr0=0.01, lrf=0.01, momentum=0.937, weight_decay=0.0005, warmup_epochs=3.0, warmup_momentum=0.8, warmup_bias_lr=0.1, box=7.5, cls=0.5, dfl=1.5, fl_gamma=0.0, label_smoothing=0.0, nbs=64, hsv_h=0.015, hsv_s=0.7, hsv_v=0.4, degrees=0.0, translate=0.1, scale=0.5, shear=0.0, perspective=0.0, flipud=0.0, fliplr=0.5, mosaic=1.0, mixup=0.0, copy_paste=0.0, hydra={'output_subdir': None, 'run': {'dir': '.'}}, v5loader=False, save_dir=runs/detect/train3\n",
            "Ultralytics YOLOv8.0.0 🚀 Python-3.10.12 torch-2.0.1+cu118 CUDA:0 (Tesla T4, 15102MiB)\n",
            "2023-09-04 16:31:50.455691: I tensorflow/core/platform/cpu_feature_guard.cc:182] This TensorFlow binary is optimized to use available CPU instructions in performance-critical operations.\n",
            "To enable the following instructions: AVX2 AVX512F FMA, in other operations, rebuild TensorFlow with the appropriate compiler flags.\n",
            "2023-09-04 16:31:51.959953: W tensorflow/compiler/tf2tensorrt/utils/py_utils.cc:38] TF-TRT Warning: Could not find TensorRT\n",
            "Overriding model.yaml nc=80 with nc=2\n",
            "\n",
            "                   from  n    params  module                                       arguments                     \n",
            "  0                  -1  1      1392  ultralytics.nn.modules.Conv                  [3, 48, 3, 2]                 \n",
            "  1                  -1  1     41664  ultralytics.nn.modules.Conv                  [48, 96, 3, 2]                \n",
            "  2                  -1  2    111360  ultralytics.nn.modules.C2f                   [96, 96, 2, True]             \n",
            "  3                  -1  1    166272  ultralytics.nn.modules.Conv                  [96, 192, 3, 2]               \n",
            "  4                  -1  4    813312  ultralytics.nn.modules.C2f                   [192, 192, 4, True]           \n",
            "  5                  -1  1    664320  ultralytics.nn.modules.Conv                  [192, 384, 3, 2]              \n",
            "  6                  -1  4   3248640  ultralytics.nn.modules.C2f                   [384, 384, 4, True]           \n",
            "  7                  -1  1   1991808  ultralytics.nn.modules.Conv                  [384, 576, 3, 2]              \n",
            "  8                  -1  2   3985920  ultralytics.nn.modules.C2f                   [576, 576, 2, True]           \n",
            "  9                  -1  1    831168  ultralytics.nn.modules.SPPF                  [576, 576, 5]                 \n",
            " 10                  -1  1         0  torch.nn.modules.upsampling.Upsample         [None, 2, 'nearest']          \n",
            " 11             [-1, 6]  1         0  ultralytics.nn.modules.Concat                [1]                           \n",
            " 12                  -1  2   1993728  ultralytics.nn.modules.C2f                   [960, 384, 2]                 \n",
            " 13                  -1  1         0  torch.nn.modules.upsampling.Upsample         [None, 2, 'nearest']          \n",
            " 14             [-1, 4]  1         0  ultralytics.nn.modules.Concat                [1]                           \n",
            " 15                  -1  2    517632  ultralytics.nn.modules.C2f                   [576, 192, 2]                 \n",
            " 16                  -1  1    332160  ultralytics.nn.modules.Conv                  [192, 192, 3, 2]              \n",
            " 17            [-1, 12]  1         0  ultralytics.nn.modules.Concat                [1]                           \n",
            " 18                  -1  2   1846272  ultralytics.nn.modules.C2f                   [576, 384, 2]                 \n",
            " 19                  -1  1   1327872  ultralytics.nn.modules.Conv                  [384, 384, 3, 2]              \n",
            " 20             [-1, 9]  1         0  ultralytics.nn.modules.Concat                [1]                           \n",
            " 21                  -1  2   4207104  ultralytics.nn.modules.C2f                   [960, 576, 2]                 \n",
            " 22        [15, 18, 21]  1   3776854  ultralytics.nn.modules.Detect                [2, [192, 384, 576]]          \n",
            "Model summary: 295 layers, 25857478 parameters, 25857462 gradients, 79.1 GFLOPs\n",
            "\n",
            "Transferred 475/475 items from pretrained weights\n",
            "\u001b[34m\u001b[1moptimizer:\u001b[0m SGD(lr=0.01) with parameter groups 77 weight(decay=0.0), 84 weight(decay=0.0005), 83 bias\n",
            "\u001b[34m\u001b[1mtrain: \u001b[0mScanning /content/datasets/people-3/train/labels... 954 images, 0 backgrounds, 0 corrupt: 100% 954/954 [00:00<00:00, 1789.80it/s]\n",
            "Signal received. 15 <frame at 0x79f5a8482dc0, file '/usr/lib/python3.10/multiprocessing/util.py', line 435, code _flush_std_streams>\n",
            "\u001b[34m\u001b[1mtrain: \u001b[0mNew cache created: /content/datasets/people-3/train/labels.cache\n",
            "\u001b[34m\u001b[1malbumentations: \u001b[0mBlur(p=0.01, blur_limit=(3, 7)), MedianBlur(p=0.01, blur_limit=(3, 7)), ToGray(p=0.01), CLAHE(p=0.01, clip_limit=(1, 4.0), tile_grid_size=(8, 8))\n",
            "\u001b[34m\u001b[1mval: \u001b[0mScanning /content/datasets/people-3/valid/labels... 347 images, 0 backgrounds, 0 corrupt: 100% 347/347 [00:00<00:00, 1667.46it/s]\n",
            "Signal received. 15 <frame at 0x79f503b34210, file '/usr/lib/python3.10/concurrent/futures/thread.py', line 23, code _python_exit>\n",
            "\u001b[34m\u001b[1mval: \u001b[0mNew cache created: /content/datasets/people-3/valid/labels.cache\n",
            "Image sizes 640 train, 640 val\n",
            "Using 2 dataloader workers\n",
            "Logging results to \u001b[1mruns/detect/train3\u001b[0m\n",
            "Starting training for 20 epochs...\n",
            "\n",
            "      Epoch    GPU_mem   box_loss   cls_loss   dfl_loss  Instances       Size\n",
            "       1/20      6.73G      3.032        3.9       4.19         19        640: 100% 60/60 [00:40<00:00,  1.47it/s]\n",
            "                 Class     Images  Instances      Box(P          R      mAP50  mAP50-95): 100% 11/11 [00:07<00:00,  1.52it/s]\n",
            "                   all        347        371    0.00328      0.944    0.00486    0.00219\n",
            "\n",
            "      Epoch    GPU_mem   box_loss   cls_loss   dfl_loss  Instances       Size\n",
            "       2/20      7.96G      2.988      3.804      4.123         25        640: 100% 60/60 [00:38<00:00,  1.54it/s]\n",
            "                 Class     Images  Instances      Box(P          R      mAP50  mAP50-95): 100% 11/11 [00:06<00:00,  1.79it/s]\n",
            "                   all        347        371    0.00318      0.939     0.0107    0.00485\n",
            "\n",
            "      Epoch    GPU_mem   box_loss   cls_loss   dfl_loss  Instances       Size\n",
            "       3/20      7.96G      3.009      3.643      3.973         15        640: 100% 60/60 [00:36<00:00,  1.65it/s]\n",
            "                 Class     Images  Instances      Box(P          R      mAP50  mAP50-95): 100% 11/11 [00:07<00:00,  1.46it/s]\n",
            "                   all        347        371      0.521      0.349     0.0405     0.0107\n",
            "\n",
            "      Epoch    GPU_mem   box_loss   cls_loss   dfl_loss  Instances       Size\n",
            "       4/20      7.97G       2.88      3.313      3.635         18        640: 100% 60/60 [00:37<00:00,  1.59it/s]\n",
            "                 Class     Images  Instances      Box(P          R      mAP50  mAP50-95): 100% 11/11 [00:06<00:00,  1.81it/s]\n",
            "                   all        347        371     0.0193      0.552     0.0454     0.0145\n",
            "\n",
            "      Epoch    GPU_mem   box_loss   cls_loss   dfl_loss  Instances       Size\n",
            "       5/20      7.97G      2.581      3.055      3.289         27        640: 100% 60/60 [00:36<00:00,  1.64it/s]\n",
            "                 Class     Images  Instances      Box(P          R      mAP50  mAP50-95): 100% 11/11 [00:07<00:00,  1.47it/s]\n",
            "                   all        347        371     0.0791      0.357     0.0561     0.0182\n",
            "\n",
            "      Epoch    GPU_mem   box_loss   cls_loss   dfl_loss  Instances       Size\n",
            "       6/20      7.97G      2.442      2.829      3.052         25        640: 100% 60/60 [00:38<00:00,  1.56it/s]\n",
            "                 Class     Images  Instances      Box(P          R      mAP50  mAP50-95): 100% 11/11 [00:06<00:00,  1.79it/s]\n",
            "                   all        347        371      0.525        0.5     0.0591      0.017\n",
            "\n",
            "      Epoch    GPU_mem   box_loss   cls_loss   dfl_loss  Instances       Size\n",
            "       7/20      7.97G      2.221      2.477      2.823         25        640: 100% 60/60 [00:36<00:00,  1.64it/s]\n",
            "                 Class     Images  Instances      Box(P          R      mAP50  mAP50-95): 100% 11/11 [00:07<00:00,  1.55it/s]\n",
            "                   all        347        371      0.179      0.493      0.122     0.0377\n",
            "\n",
            "      Epoch    GPU_mem   box_loss   cls_loss   dfl_loss  Instances       Size\n",
            "       8/20      7.97G      2.034      2.164      2.625         34        640: 100% 60/60 [00:38<00:00,  1.58it/s]\n",
            "                 Class     Images  Instances      Box(P          R      mAP50  mAP50-95): 100% 11/11 [00:06<00:00,  1.77it/s]\n",
            "                   all        347        371      0.272      0.318      0.234      0.087\n",
            "\n",
            "      Epoch    GPU_mem   box_loss   cls_loss   dfl_loss  Instances       Size\n",
            "       9/20      7.97G      1.899      1.966      2.479         23        640: 100% 60/60 [00:37<00:00,  1.60it/s]\n",
            "                 Class     Images  Instances      Box(P          R      mAP50  mAP50-95): 100% 11/11 [00:06<00:00,  1.65it/s]\n",
            "                   all        347        371      0.274       0.67      0.261      0.104\n",
            "\n",
            "      Epoch    GPU_mem   box_loss   cls_loss   dfl_loss  Instances       Size\n",
            "      10/20      7.97G      1.749      1.778      2.338         27        640: 100% 60/60 [00:38<00:00,  1.55it/s]\n",
            "                 Class     Images  Instances      Box(P          R      mAP50  mAP50-95): 100% 11/11 [00:06<00:00,  1.73it/s]\n",
            "                   all        347        371      0.496      0.777      0.634      0.278\n",
            "Closing dataloader mosaic\n",
            "\u001b[34m\u001b[1malbumentations: \u001b[0mBlur(p=0.01, blur_limit=(3, 7)), MedianBlur(p=0.01, blur_limit=(3, 7)), ToGray(p=0.01), CLAHE(p=0.01, clip_limit=(1, 4.0), tile_grid_size=(8, 8))\n",
            "\n",
            "      Epoch    GPU_mem   box_loss   cls_loss   dfl_loss  Instances       Size\n",
            "      11/20      7.97G        1.6       1.46      2.387         10        640: 100% 60/60 [00:30<00:00,  1.97it/s]\n",
            "                 Class     Images  Instances      Box(P          R      mAP50  mAP50-95): 100% 11/11 [00:06<00:00,  1.79it/s]\n",
            "                   all        347        371      0.791        0.3      0.306      0.111\n",
            "\n",
            "      Epoch    GPU_mem   box_loss   cls_loss   dfl_loss  Instances       Size\n",
            "      12/20      7.97G       1.46       1.32      2.239         10        640: 100% 60/60 [00:29<00:00,  2.07it/s]\n",
            "                 Class     Images  Instances      Box(P          R      mAP50  mAP50-95): 100% 11/11 [00:06<00:00,  1.79it/s]\n",
            "                   all        347        371      0.422      0.458      0.457      0.213\n",
            "\n",
            "      Epoch    GPU_mem   box_loss   cls_loss   dfl_loss  Instances       Size\n",
            "      13/20      7.97G      1.411       1.18      2.179         10        640: 100% 60/60 [00:29<00:00,  2.06it/s]\n",
            "                 Class     Images  Instances      Box(P          R      mAP50  mAP50-95): 100% 11/11 [00:06<00:00,  1.80it/s]\n",
            "                   all        347        371      0.469      0.485      0.533       0.24\n",
            "\n",
            "      Epoch    GPU_mem   box_loss   cls_loss   dfl_loss  Instances       Size\n",
            "      14/20      7.97G      1.329      1.097      2.107         10        640: 100% 60/60 [00:29<00:00,  2.05it/s]\n",
            "                 Class     Images  Instances      Box(P          R      mAP50  mAP50-95): 100% 11/11 [00:07<00:00,  1.53it/s]\n",
            "                   all        347        371      0.646      0.458      0.617      0.285\n",
            "\n",
            "      Epoch    GPU_mem   box_loss   cls_loss   dfl_loss  Instances       Size\n",
            "      15/20      7.97G      1.269      1.033      2.013         11        640: 100% 60/60 [00:29<00:00,  2.05it/s]\n",
            "                 Class     Images  Instances      Box(P          R      mAP50  mAP50-95): 100% 11/11 [00:07<00:00,  1.52it/s]\n",
            "                   all        347        371      0.437       0.64      0.503       0.24\n",
            "\n",
            "      Epoch    GPU_mem   box_loss   cls_loss   dfl_loss  Instances       Size\n",
            "      16/20      7.97G      1.273      1.016      2.021         10        640: 100% 60/60 [00:29<00:00,  2.06it/s]\n",
            "                 Class     Images  Instances      Box(P          R      mAP50  mAP50-95): 100% 11/11 [00:06<00:00,  1.60it/s]\n",
            "                   all        347        371      0.487      0.812      0.638        0.3\n",
            "\n",
            "      Epoch    GPU_mem   box_loss   cls_loss   dfl_loss  Instances       Size\n",
            "      17/20      7.97G      1.195     0.9623      1.934         10        640: 100% 60/60 [00:29<00:00,  2.06it/s]\n",
            "                 Class     Images  Instances      Box(P          R      mAP50  mAP50-95): 100% 11/11 [00:06<00:00,  1.72it/s]\n",
            "                   all        347        371      0.464      0.822      0.667      0.367\n",
            "\n",
            "      Epoch    GPU_mem   box_loss   cls_loss   dfl_loss  Instances       Size\n",
            "      18/20      7.97G      1.142     0.8868      1.887         10        640: 100% 60/60 [00:29<00:00,  2.06it/s]\n",
            "                 Class     Images  Instances      Box(P          R      mAP50  mAP50-95): 100% 11/11 [00:06<00:00,  1.83it/s]\n",
            "                   all        347        371       0.57      0.605      0.598      0.229\n",
            "\n",
            "      Epoch    GPU_mem   box_loss   cls_loss   dfl_loss  Instances       Size\n",
            "      19/20      7.97G      1.117     0.8315      1.831         10        640: 100% 60/60 [00:29<00:00,  2.06it/s]\n",
            "                 Class     Images  Instances      Box(P          R      mAP50  mAP50-95): 100% 11/11 [00:06<00:00,  1.81it/s]\n",
            "                   all        347        371      0.602      0.913      0.724      0.391\n",
            "\n",
            "      Epoch    GPU_mem   box_loss   cls_loss   dfl_loss  Instances       Size\n",
            "      20/20      7.97G      1.099     0.8145      1.808         10        640: 100% 60/60 [00:29<00:00,  2.02it/s]\n",
            "                 Class     Images  Instances      Box(P          R      mAP50  mAP50-95): 100% 11/11 [00:09<00:00,  1.20it/s]\n",
            "                   all        347        371      0.588       0.74      0.795      0.442\n",
            "\n",
            "20 epochs completed in 0.247 hours.\n",
            "Optimizer stripped from runs/detect/train3/weights/last.pt, 52.0MB\n",
            "Optimizer stripped from runs/detect/train3/weights/best.pt, 52.0MB\n",
            "\n",
            "Validating runs/detect/train3/weights/best.pt...\n",
            "Ultralytics YOLOv8.0.0 🚀 Python-3.10.12 torch-2.0.1+cu118 CUDA:0 (Tesla T4, 15102MiB)\n",
            "Fusing layers... \n",
            "Model summary: 218 layers, 25840918 parameters, 0 gradients, 78.7 GFLOPs\n",
            "                 Class     Images  Instances      Box(P          R      mAP50  mAP50-95): 100% 11/11 [00:10<00:00,  1.01it/s]\n",
            "                   all        347        371      0.587      0.737      0.795      0.443\n",
            "               Manager        347         83      0.673       0.52      0.679      0.307\n",
            "                Person        347        288      0.502      0.955      0.912      0.578\n",
            "Speed: 2.0ms pre-process, 9.8ms inference, 0.0ms loss, 2.8ms post-process per image\n",
            "Saving runs/detect/train3/predictions.json...\n",
            "Results saved to \u001b[1mruns/detect/train3\u001b[0m\n"
          ]
        }
      ]
    },
    {
      "cell_type": "code",
      "source": [
        "!ls /content/runs/detect/train2"
      ],
      "metadata": {
        "id": "CyOuo5DS8loQ",
        "colab": {
          "base_uri": "https://localhost:8080/"
        },
        "outputId": "3a8b1ea0-bbae-48d4-f787-8ab61703bb28"
      },
      "execution_count": null,
      "outputs": [
        {
          "output_type": "stream",
          "name": "stdout",
          "text": [
            "ls: cannot access '/content/runs/detect/train2': No such file or directory\n"
          ]
        }
      ]
    },
    {
      "cell_type": "code",
      "source": [
        "!yolo task=detect mode=predict model=/content/datasets/runs/detect/train2/weights/best.pt conf=0.25 source='/content/20230904_164315_016.jpg'"
      ],
      "metadata": {
        "id": "02-Hbia1-lzo",
        "colab": {
          "base_uri": "https://localhost:8080/"
        },
        "outputId": "fb3f239d-3113-4b5c-eb2d-85d953153101"
      },
      "execution_count": 11,
      "outputs": [
        {
          "output_type": "stream",
          "name": "stdout",
          "text": [
            "2023-09-04 16:07:50.514425: I tensorflow/core/platform/cpu_feature_guard.cc:182] This TensorFlow binary is optimized to use available CPU instructions in performance-critical operations.\n",
            "To enable the following instructions: AVX2 AVX512F FMA, in other operations, rebuild TensorFlow with the appropriate compiler flags.\n",
            "2023-09-04 16:07:51.585297: W tensorflow/compiler/tf2tensorrt/utils/py_utils.cc:38] TF-TRT Warning: Could not find TensorRT\n",
            "Ultralytics YOLOv8.0.0 🚀 Python-3.10.12 torch-2.0.1+cu118 CUDA:0 (Tesla T4, 15102MiB)\n",
            "Fusing layers... \n",
            "Model summary: 218 layers, 25840918 parameters, 0 gradients, 78.7 GFLOPs\n",
            "image 1/1 /content/20230904_164315_016.jpg: 640x480 1 Manager, 65.3ms\n",
            "Speed: 0.7ms pre-process, 65.3ms inference, 2.4ms postprocess per image at shape (1, 3, 640, 640)\n",
            "Results saved to \u001b[1mruns/detect/predict2\u001b[0m\n"
          ]
        }
      ]
    },
    {
      "cell_type": "code",
      "source": [
        "!gdown \"1wAItIzUBtlMpPgNrTDW71aYknmE_jocR\""
      ],
      "metadata": {
        "id": "FDXHV_DUGMz9",
        "colab": {
          "base_uri": "https://localhost:8080/"
        },
        "outputId": "79f4b05d-dfdf-4aec-e83a-23654304fc79"
      },
      "execution_count": 13,
      "outputs": [
        {
          "output_type": "stream",
          "name": "stdout",
          "text": [
            "Downloading...\n",
            "From: https://drive.google.com/uc?id=1wAItIzUBtlMpPgNrTDW71aYknmE_jocR\n",
            "To: /content/datasets/BHP _ Underground Mining School of Excellence - YouTube - Google Chrome 2023-08-26 00-21-09.mp4\n",
            "100% 126M/126M [00:01<00:00, 69.7MB/s]\n"
          ]
        }
      ]
    },
    {
      "cell_type": "code",
      "source": [
        "!yolo task=detect mode=predict model=/content/datasets/runs/detect/train3/weights/best.pt conf=0.25 source=\"/content/WhatsApp Video 2023-09-04 at 9.48.07 PM.mp4\""
      ],
      "metadata": {
        "id": "Ck2-tBxEGdXi",
        "colab": {
          "base_uri": "https://localhost:8080/"
        },
        "outputId": "3d10aef5-c889-4cab-a0f5-ef15a7e6ea8a"
      },
      "execution_count": 20,
      "outputs": [
        {
          "output_type": "stream",
          "name": "stdout",
          "text": [
            "2023-09-04 16:48:10.270503: I tensorflow/core/platform/cpu_feature_guard.cc:182] This TensorFlow binary is optimized to use available CPU instructions in performance-critical operations.\n",
            "To enable the following instructions: AVX2 AVX512F FMA, in other operations, rebuild TensorFlow with the appropriate compiler flags.\n",
            "2023-09-04 16:48:11.540737: W tensorflow/compiler/tf2tensorrt/utils/py_utils.cc:38] TF-TRT Warning: Could not find TensorRT\n",
            "Ultralytics YOLOv8.0.0 🚀 Python-3.10.12 torch-2.0.1+cu118 CUDA:0 (Tesla T4, 15102MiB)\n",
            "Fusing layers... \n",
            "Model summary: 218 layers, 25840918 parameters, 0 gradients, 78.7 GFLOPs\n",
            "video 1/1 (1/226) /content/WhatsApp Video 2023-09-04 at 9.48.07 PM.mp4: 640x352 2 Persons, 68.1ms\n",
            "video 1/1 (2/226) /content/WhatsApp Video 2023-09-04 at 9.48.07 PM.mp4: 640x352 1 Person, 26.7ms\n",
            "video 1/1 (3/226) /content/WhatsApp Video 2023-09-04 at 9.48.07 PM.mp4: 640x352 1 Person, 25.3ms\n",
            "video 1/1 (4/226) /content/WhatsApp Video 2023-09-04 at 9.48.07 PM.mp4: 640x352 1 Person, 25.2ms\n",
            "video 1/1 (5/226) /content/WhatsApp Video 2023-09-04 at 9.48.07 PM.mp4: 640x352 1 Person, 25.2ms\n",
            "video 1/1 (6/226) /content/WhatsApp Video 2023-09-04 at 9.48.07 PM.mp4: 640x352 1 Manager, 1 Person, 25.2ms\n",
            "video 1/1 (7/226) /content/WhatsApp Video 2023-09-04 at 9.48.07 PM.mp4: 640x352 1 Person, 19.4ms\n",
            "video 1/1 (8/226) /content/WhatsApp Video 2023-09-04 at 9.48.07 PM.mp4: 640x352 1 Person, 16.8ms\n",
            "video 1/1 (9/226) /content/WhatsApp Video 2023-09-04 at 9.48.07 PM.mp4: 640x352 1 Manager, 2 Persons, 16.7ms\n",
            "video 1/1 (10/226) /content/WhatsApp Video 2023-09-04 at 9.48.07 PM.mp4: 640x352 1 Manager, 1 Person, 16.7ms\n",
            "video 1/1 (11/226) /content/WhatsApp Video 2023-09-04 at 9.48.07 PM.mp4: 640x352 1 Manager, 1 Person, 16.5ms\n",
            "video 1/1 (12/226) /content/WhatsApp Video 2023-09-04 at 9.48.07 PM.mp4: 640x352 1 Manager, 1 Person, 16.5ms\n",
            "video 1/1 (13/226) /content/WhatsApp Video 2023-09-04 at 9.48.07 PM.mp4: 640x352 1 Manager, 1 Person, 16.5ms\n",
            "video 1/1 (14/226) /content/WhatsApp Video 2023-09-04 at 9.48.07 PM.mp4: 640x352 1 Manager, 1 Person, 16.5ms\n",
            "video 1/1 (15/226) /content/WhatsApp Video 2023-09-04 at 9.48.07 PM.mp4: 640x352 1 Manager, 1 Person, 12.1ms\n",
            "video 1/1 (16/226) /content/WhatsApp Video 2023-09-04 at 9.48.07 PM.mp4: 640x352 1 Manager, 1 Person, 11.5ms\n",
            "video 1/1 (17/226) /content/WhatsApp Video 2023-09-04 at 9.48.07 PM.mp4: 640x352 1 Manager, 1 Person, 11.3ms\n",
            "video 1/1 (18/226) /content/WhatsApp Video 2023-09-04 at 9.48.07 PM.mp4: 640x352 1 Manager, 1 Person, 11.2ms\n",
            "video 1/1 (19/226) /content/WhatsApp Video 2023-09-04 at 9.48.07 PM.mp4: 640x352 1 Manager, 1 Person, 11.2ms\n",
            "video 1/1 (20/226) /content/WhatsApp Video 2023-09-04 at 9.48.07 PM.mp4: 640x352 1 Manager, 1 Person, 11.2ms\n",
            "video 1/1 (21/226) /content/WhatsApp Video 2023-09-04 at 9.48.07 PM.mp4: 640x352 1 Manager, 1 Person, 11.2ms\n",
            "video 1/1 (22/226) /content/WhatsApp Video 2023-09-04 at 9.48.07 PM.mp4: 640x352 2 Managers, 1 Person, 11.2ms\n",
            "video 1/1 (23/226) /content/WhatsApp Video 2023-09-04 at 9.48.07 PM.mp4: 640x352 2 Managers, 1 Person, 11.2ms\n",
            "video 1/1 (24/226) /content/WhatsApp Video 2023-09-04 at 9.48.07 PM.mp4: 640x352 1 Manager, 1 Person, 11.0ms\n",
            "video 1/1 (25/226) /content/WhatsApp Video 2023-09-04 at 9.48.07 PM.mp4: 640x352 1 Manager, 1 Person, 11.1ms\n",
            "video 1/1 (26/226) /content/WhatsApp Video 2023-09-04 at 9.48.07 PM.mp4: 640x352 1 Manager, 1 Person, 11.2ms\n",
            "video 1/1 (27/226) /content/WhatsApp Video 2023-09-04 at 9.48.07 PM.mp4: 640x352 1 Manager, 1 Person, 11.5ms\n",
            "video 1/1 (28/226) /content/WhatsApp Video 2023-09-04 at 9.48.07 PM.mp4: 640x352 1 Manager, 1 Person, 11.6ms\n",
            "video 1/1 (29/226) /content/WhatsApp Video 2023-09-04 at 9.48.07 PM.mp4: 640x352 1 Manager, 1 Person, 11.8ms\n",
            "video 1/1 (30/226) /content/WhatsApp Video 2023-09-04 at 9.48.07 PM.mp4: 640x352 1 Manager, 1 Person, 12.1ms\n",
            "video 1/1 (31/226) /content/WhatsApp Video 2023-09-04 at 9.48.07 PM.mp4: 640x352 1 Manager, 1 Person, 12.0ms\n",
            "video 1/1 (32/226) /content/WhatsApp Video 2023-09-04 at 9.48.07 PM.mp4: 640x352 1 Manager, 11.8ms\n",
            "video 1/1 (33/226) /content/WhatsApp Video 2023-09-04 at 9.48.07 PM.mp4: 640x352 1 Manager, 1 Person, 11.6ms\n",
            "video 1/1 (34/226) /content/WhatsApp Video 2023-09-04 at 9.48.07 PM.mp4: 640x352 1 Manager, 1 Person, 11.3ms\n",
            "video 1/1 (35/226) /content/WhatsApp Video 2023-09-04 at 9.48.07 PM.mp4: 640x352 1 Manager, 1 Person, 11.2ms\n",
            "video 1/1 (36/226) /content/WhatsApp Video 2023-09-04 at 9.48.07 PM.mp4: 640x352 1 Manager, 1 Person, 11.1ms\n",
            "video 1/1 (37/226) /content/WhatsApp Video 2023-09-04 at 9.48.07 PM.mp4: 640x352 1 Manager, 1 Person, 11.0ms\n",
            "video 1/1 (38/226) /content/WhatsApp Video 2023-09-04 at 9.48.07 PM.mp4: 640x352 1 Manager, 1 Person, 11.1ms\n",
            "video 1/1 (39/226) /content/WhatsApp Video 2023-09-04 at 9.48.07 PM.mp4: 640x352 1 Manager, 1 Person, 11.0ms\n",
            "video 1/1 (40/226) /content/WhatsApp Video 2023-09-04 at 9.48.07 PM.mp4: 640x352 1 Manager, 1 Person, 11.0ms\n",
            "video 1/1 (41/226) /content/WhatsApp Video 2023-09-04 at 9.48.07 PM.mp4: 640x352 1 Manager, 1 Person, 11.0ms\n",
            "video 1/1 (42/226) /content/WhatsApp Video 2023-09-04 at 9.48.07 PM.mp4: 640x352 1 Manager, 1 Person, 11.0ms\n",
            "video 1/1 (43/226) /content/WhatsApp Video 2023-09-04 at 9.48.07 PM.mp4: 640x352 1 Manager, 1 Person, 11.0ms\n",
            "video 1/1 (44/226) /content/WhatsApp Video 2023-09-04 at 9.48.07 PM.mp4: 640x352 1 Manager, 1 Person, 11.4ms\n",
            "video 1/1 (45/226) /content/WhatsApp Video 2023-09-04 at 9.48.07 PM.mp4: 640x352 1 Manager, 1 Person, 11.5ms\n",
            "video 1/1 (46/226) /content/WhatsApp Video 2023-09-04 at 9.48.07 PM.mp4: 640x352 1 Manager, 1 Person, 11.8ms\n",
            "video 1/1 (47/226) /content/WhatsApp Video 2023-09-04 at 9.48.07 PM.mp4: 640x352 1 Manager, 1 Person, 11.7ms\n",
            "video 1/1 (48/226) /content/WhatsApp Video 2023-09-04 at 9.48.07 PM.mp4: 640x352 1 Manager, 1 Person, 11.6ms\n",
            "video 1/1 (49/226) /content/WhatsApp Video 2023-09-04 at 9.48.07 PM.mp4: 640x352 1 Manager, 1 Person, 11.6ms\n",
            "video 1/1 (50/226) /content/WhatsApp Video 2023-09-04 at 9.48.07 PM.mp4: 640x352 1 Manager, 1 Person, 11.6ms\n",
            "video 1/1 (51/226) /content/WhatsApp Video 2023-09-04 at 9.48.07 PM.mp4: 640x352 1 Manager, 11.4ms\n",
            "video 1/1 (52/226) /content/WhatsApp Video 2023-09-04 at 9.48.07 PM.mp4: 640x352 1 Manager, 11.2ms\n",
            "video 1/1 (53/226) /content/WhatsApp Video 2023-09-04 at 9.48.07 PM.mp4: 640x352 1 Manager, 11.1ms\n",
            "video 1/1 (54/226) /content/WhatsApp Video 2023-09-04 at 9.48.07 PM.mp4: 640x352 1 Manager, 11.2ms\n",
            "video 1/1 (55/226) /content/WhatsApp Video 2023-09-04 at 9.48.07 PM.mp4: 640x352 1 Manager, 11.2ms\n",
            "video 1/1 (56/226) /content/WhatsApp Video 2023-09-04 at 9.48.07 PM.mp4: 640x352 1 Manager, 11.2ms\n",
            "video 1/1 (57/226) /content/WhatsApp Video 2023-09-04 at 9.48.07 PM.mp4: 640x352 1 Manager, 11.2ms\n",
            "video 1/1 (58/226) /content/WhatsApp Video 2023-09-04 at 9.48.07 PM.mp4: 640x352 1 Manager, 11.2ms\n",
            "video 1/1 (59/226) /content/WhatsApp Video 2023-09-04 at 9.48.07 PM.mp4: 640x352 1 Manager, 11.1ms\n",
            "video 1/1 (60/226) /content/WhatsApp Video 2023-09-04 at 9.48.07 PM.mp4: 640x352 1 Manager, 1 Person, 11.0ms\n",
            "video 1/1 (61/226) /content/WhatsApp Video 2023-09-04 at 9.48.07 PM.mp4: 640x352 1 Manager, 1 Person, 11.0ms\n",
            "video 1/1 (62/226) /content/WhatsApp Video 2023-09-04 at 9.48.07 PM.mp4: 640x352 1 Manager, 1 Person, 11.0ms\n",
            "video 1/1 (63/226) /content/WhatsApp Video 2023-09-04 at 9.48.07 PM.mp4: 640x352 1 Manager, 1 Person, 11.0ms\n",
            "video 1/1 (64/226) /content/WhatsApp Video 2023-09-04 at 9.48.07 PM.mp4: 640x352 1 Manager, 1 Person, 11.0ms\n",
            "video 1/1 (65/226) /content/WhatsApp Video 2023-09-04 at 9.48.07 PM.mp4: 640x352 1 Manager, 1 Person, 11.0ms\n",
            "video 1/1 (66/226) /content/WhatsApp Video 2023-09-04 at 9.48.07 PM.mp4: 640x352 1 Manager, 1 Person, 11.1ms\n",
            "video 1/1 (67/226) /content/WhatsApp Video 2023-09-04 at 9.48.07 PM.mp4: 640x352 1 Manager, 1 Person, 11.1ms\n",
            "video 1/1 (68/226) /content/WhatsApp Video 2023-09-04 at 9.48.07 PM.mp4: 640x352 1 Manager, 1 Person, 11.8ms\n",
            "video 1/1 (69/226) /content/WhatsApp Video 2023-09-04 at 9.48.07 PM.mp4: 640x352 1 Manager, 12.0ms\n",
            "video 1/1 (70/226) /content/WhatsApp Video 2023-09-04 at 9.48.07 PM.mp4: 640x352 1 Manager, 12.0ms\n",
            "video 1/1 (71/226) /content/WhatsApp Video 2023-09-04 at 9.48.07 PM.mp4: 640x352 2 Managers, 11.9ms\n",
            "video 1/1 (72/226) /content/WhatsApp Video 2023-09-04 at 9.48.07 PM.mp4: 640x352 1 Manager, 11.6ms\n",
            "video 1/1 (73/226) /content/WhatsApp Video 2023-09-04 at 9.48.07 PM.mp4: 640x352 1 Manager, 11.4ms\n",
            "video 1/1 (74/226) /content/WhatsApp Video 2023-09-04 at 9.48.07 PM.mp4: 640x352 1 Manager, 11.3ms\n",
            "video 1/1 (75/226) /content/WhatsApp Video 2023-09-04 at 9.48.07 PM.mp4: 640x352 1 Manager, 11.2ms\n",
            "video 1/1 (76/226) /content/WhatsApp Video 2023-09-04 at 9.48.07 PM.mp4: 640x352 1 Manager, 1 Person, 11.1ms\n",
            "video 1/1 (77/226) /content/WhatsApp Video 2023-09-04 at 9.48.07 PM.mp4: 640x352 1 Manager, 1 Person, 11.0ms\n",
            "video 1/1 (78/226) /content/WhatsApp Video 2023-09-04 at 9.48.07 PM.mp4: 640x352 1 Manager, 1 Person, 12.1ms\n",
            "video 1/1 (79/226) /content/WhatsApp Video 2023-09-04 at 9.48.07 PM.mp4: 640x352 2 Managers, 11.5ms\n",
            "video 1/1 (80/226) /content/WhatsApp Video 2023-09-04 at 9.48.07 PM.mp4: 640x352 1 Manager, 1 Person, 11.9ms\n",
            "video 1/1 (81/226) /content/WhatsApp Video 2023-09-04 at 9.48.07 PM.mp4: 640x352 1 Manager, 11.1ms\n",
            "video 1/1 (82/226) /content/WhatsApp Video 2023-09-04 at 9.48.07 PM.mp4: 640x352 1 Manager, 1 Person, 11.2ms\n",
            "video 1/1 (83/226) /content/WhatsApp Video 2023-09-04 at 9.48.07 PM.mp4: 640x352 1 Manager, 1 Person, 11.5ms\n",
            "video 1/1 (84/226) /content/WhatsApp Video 2023-09-04 at 9.48.07 PM.mp4: 640x352 1 Manager, 1 Person, 11.2ms\n",
            "video 1/1 (85/226) /content/WhatsApp Video 2023-09-04 at 9.48.07 PM.mp4: 640x352 1 Manager, 1 Person, 11.5ms\n",
            "video 1/1 (86/226) /content/WhatsApp Video 2023-09-04 at 9.48.07 PM.mp4: 640x352 1 Manager, 1 Person, 11.1ms\n",
            "video 1/1 (87/226) /content/WhatsApp Video 2023-09-04 at 9.48.07 PM.mp4: 640x352 1 Manager, 2 Persons, 12.7ms\n",
            "video 1/1 (88/226) /content/WhatsApp Video 2023-09-04 at 9.48.07 PM.mp4: 640x352 1 Manager, 1 Person, 11.9ms\n",
            "video 1/1 (89/226) /content/WhatsApp Video 2023-09-04 at 9.48.07 PM.mp4: 640x352 1 Manager, 2 Persons, 14.1ms\n",
            "video 1/1 (90/226) /content/WhatsApp Video 2023-09-04 at 9.48.07 PM.mp4: 640x352 1 Manager, 1 Person, 14.1ms\n",
            "video 1/1 (91/226) /content/WhatsApp Video 2023-09-04 at 9.48.07 PM.mp4: 640x352 1 Manager, 1 Person, 11.2ms\n",
            "video 1/1 (92/226) /content/WhatsApp Video 2023-09-04 at 9.48.07 PM.mp4: 640x352 1 Manager, 1 Person, 11.2ms\n",
            "video 1/1 (93/226) /content/WhatsApp Video 2023-09-04 at 9.48.07 PM.mp4: 640x352 1 Manager, 1 Person, 11.1ms\n",
            "video 1/1 (94/226) /content/WhatsApp Video 2023-09-04 at 9.48.07 PM.mp4: 640x352 1 Manager, 1 Person, 11.2ms\n",
            "video 1/1 (95/226) /content/WhatsApp Video 2023-09-04 at 9.48.07 PM.mp4: 640x352 1 Manager, 1 Person, 11.6ms\n",
            "video 1/1 (96/226) /content/WhatsApp Video 2023-09-04 at 9.48.07 PM.mp4: 640x352 1 Manager, 1 Person, 11.5ms\n",
            "video 1/1 (97/226) /content/WhatsApp Video 2023-09-04 at 9.48.07 PM.mp4: 640x352 1 Manager, 1 Person, 11.6ms\n",
            "video 1/1 (98/226) /content/WhatsApp Video 2023-09-04 at 9.48.07 PM.mp4: 640x352 1 Manager, 1 Person, 11.1ms\n",
            "video 1/1 (99/226) /content/WhatsApp Video 2023-09-04 at 9.48.07 PM.mp4: 640x352 1 Manager, 1 Person, 11.1ms\n",
            "video 1/1 (100/226) /content/WhatsApp Video 2023-09-04 at 9.48.07 PM.mp4: 640x352 1 Manager, 1 Person, 11.0ms\n",
            "video 1/1 (101/226) /content/WhatsApp Video 2023-09-04 at 9.48.07 PM.mp4: 640x352 1 Manager, 1 Person, 11.0ms\n",
            "video 1/1 (102/226) /content/WhatsApp Video 2023-09-04 at 9.48.07 PM.mp4: 640x352 1 Manager, 1 Person, 11.1ms\n",
            "video 1/1 (103/226) /content/WhatsApp Video 2023-09-04 at 9.48.07 PM.mp4: 640x352 1 Manager, 1 Person, 11.1ms\n",
            "video 1/1 (104/226) /content/WhatsApp Video 2023-09-04 at 9.48.07 PM.mp4: 640x352 1 Manager, 1 Person, 11.6ms\n",
            "video 1/1 (105/226) /content/WhatsApp Video 2023-09-04 at 9.48.07 PM.mp4: 640x352 1 Manager, 1 Person, 11.2ms\n",
            "video 1/1 (106/226) /content/WhatsApp Video 2023-09-04 at 9.48.07 PM.mp4: 640x352 1 Manager, 1 Person, 11.1ms\n",
            "video 1/1 (107/226) /content/WhatsApp Video 2023-09-04 at 9.48.07 PM.mp4: 640x352 1 Manager, 1 Person, 11.4ms\n",
            "video 1/1 (108/226) /content/WhatsApp Video 2023-09-04 at 9.48.07 PM.mp4: 640x352 1 Manager, 1 Person, 11.2ms\n",
            "video 1/1 (109/226) /content/WhatsApp Video 2023-09-04 at 9.48.07 PM.mp4: 640x352 1 Manager, 1 Person, 13.3ms\n",
            "video 1/1 (110/226) /content/WhatsApp Video 2023-09-04 at 9.48.07 PM.mp4: 640x352 1 Manager, 1 Person, 11.1ms\n",
            "video 1/1 (111/226) /content/WhatsApp Video 2023-09-04 at 9.48.07 PM.mp4: 640x352 1 Manager, 1 Person, 11.4ms\n",
            "video 1/1 (112/226) /content/WhatsApp Video 2023-09-04 at 9.48.07 PM.mp4: 640x352 1 Manager, 1 Person, 11.2ms\n",
            "video 1/1 (113/226) /content/WhatsApp Video 2023-09-04 at 9.48.07 PM.mp4: 640x352 1 Manager, 1 Person, 11.1ms\n",
            "video 1/1 (114/226) /content/WhatsApp Video 2023-09-04 at 9.48.07 PM.mp4: 640x352 1 Manager, 1 Person, 11.3ms\n",
            "video 1/1 (115/226) /content/WhatsApp Video 2023-09-04 at 9.48.07 PM.mp4: 640x352 1 Manager, 1 Person, 11.2ms\n",
            "video 1/1 (116/226) /content/WhatsApp Video 2023-09-04 at 9.48.07 PM.mp4: 640x352 1 Manager, 1 Person, 11.4ms\n",
            "video 1/1 (117/226) /content/WhatsApp Video 2023-09-04 at 9.48.07 PM.mp4: 640x352 1 Manager, 1 Person, 11.2ms\n",
            "video 1/1 (118/226) /content/WhatsApp Video 2023-09-04 at 9.48.07 PM.mp4: 640x352 1 Manager, 1 Person, 11.3ms\n",
            "video 1/1 (119/226) /content/WhatsApp Video 2023-09-04 at 9.48.07 PM.mp4: 640x352 1 Manager, 1 Person, 11.2ms\n",
            "video 1/1 (120/226) /content/WhatsApp Video 2023-09-04 at 9.48.07 PM.mp4: 640x352 1 Manager, 11.1ms\n",
            "video 1/1 (121/226) /content/WhatsApp Video 2023-09-04 at 9.48.07 PM.mp4: 640x352 1 Manager, 1 Person, 11.5ms\n",
            "video 1/1 (122/226) /content/WhatsApp Video 2023-09-04 at 9.48.07 PM.mp4: 640x352 1 Manager, 11.2ms\n",
            "video 1/1 (123/226) /content/WhatsApp Video 2023-09-04 at 9.48.07 PM.mp4: 640x352 1 Manager, 1 Person, 11.1ms\n",
            "video 1/1 (124/226) /content/WhatsApp Video 2023-09-04 at 9.48.07 PM.mp4: 640x352 1 Manager, 1 Person, 11.4ms\n",
            "video 1/1 (125/226) /content/WhatsApp Video 2023-09-04 at 9.48.07 PM.mp4: 640x352 1 Manager, 1 Person, 11.2ms\n",
            "video 1/1 (126/226) /content/WhatsApp Video 2023-09-04 at 9.48.07 PM.mp4: 640x352 1 Manager, 1 Person, 12.2ms\n",
            "video 1/1 (127/226) /content/WhatsApp Video 2023-09-04 at 9.48.07 PM.mp4: 640x352 1 Manager, 1 Person, 11.3ms\n",
            "video 1/1 (128/226) /content/WhatsApp Video 2023-09-04 at 9.48.07 PM.mp4: 640x352 1 Manager, 1 Person, 11.2ms\n",
            "video 1/1 (129/226) /content/WhatsApp Video 2023-09-04 at 9.48.07 PM.mp4: 640x352 1 Manager, 1 Person, 11.2ms\n",
            "video 1/1 (130/226) /content/WhatsApp Video 2023-09-04 at 9.48.07 PM.mp4: 640x352 1 Manager, 1 Person, 13.6ms\n",
            "video 1/1 (131/226) /content/WhatsApp Video 2023-09-04 at 9.48.07 PM.mp4: 640x352 1 Manager, 1 Person, 11.1ms\n",
            "video 1/1 (132/226) /content/WhatsApp Video 2023-09-04 at 9.48.07 PM.mp4: 640x352 1 Manager, 1 Person, 11.2ms\n",
            "video 1/1 (133/226) /content/WhatsApp Video 2023-09-04 at 9.48.07 PM.mp4: 640x352 1 Manager, 1 Person, 11.1ms\n",
            "video 1/1 (134/226) /content/WhatsApp Video 2023-09-04 at 9.48.07 PM.mp4: 640x352 1 Manager, 1 Person, 11.6ms\n",
            "video 1/1 (135/226) /content/WhatsApp Video 2023-09-04 at 9.48.07 PM.mp4: 640x352 1 Manager, 1 Person, 11.2ms\n",
            "video 1/1 (136/226) /content/WhatsApp Video 2023-09-04 at 9.48.07 PM.mp4: 640x352 2 Managers, 11.1ms\n",
            "video 1/1 (137/226) /content/WhatsApp Video 2023-09-04 at 9.48.07 PM.mp4: 640x352 1 Manager, 1 Person, 11.2ms\n",
            "video 1/1 (138/226) /content/WhatsApp Video 2023-09-04 at 9.48.07 PM.mp4: 640x352 1 Manager, 1 Person, 11.2ms\n",
            "video 1/1 (139/226) /content/WhatsApp Video 2023-09-04 at 9.48.07 PM.mp4: 640x352 1 Manager, 1 Person, 11.4ms\n",
            "video 1/1 (140/226) /content/WhatsApp Video 2023-09-04 at 9.48.07 PM.mp4: 640x352 2 Managers, 11.2ms\n",
            "video 1/1 (141/226) /content/WhatsApp Video 2023-09-04 at 9.48.07 PM.mp4: 640x352 1 Manager, 11.2ms\n",
            "video 1/1 (142/226) /content/WhatsApp Video 2023-09-04 at 9.48.07 PM.mp4: 640x352 1 Manager, 11.2ms\n",
            "video 1/1 (143/226) /content/WhatsApp Video 2023-09-04 at 9.48.07 PM.mp4: 640x352 1 Manager, 11.5ms\n",
            "video 1/1 (144/226) /content/WhatsApp Video 2023-09-04 at 9.48.07 PM.mp4: 640x352 1 Manager, 1 Person, 12.7ms\n",
            "video 1/1 (145/226) /content/WhatsApp Video 2023-09-04 at 9.48.07 PM.mp4: 640x352 1 Manager, 11.2ms\n",
            "video 1/1 (146/226) /content/WhatsApp Video 2023-09-04 at 9.48.07 PM.mp4: 640x352 1 Manager, 11.4ms\n",
            "video 1/1 (147/226) /content/WhatsApp Video 2023-09-04 at 9.48.07 PM.mp4: 640x352 1 Manager, 1 Person, 11.2ms\n",
            "video 1/1 (148/226) /content/WhatsApp Video 2023-09-04 at 9.48.07 PM.mp4: 640x352 1 Manager, 1 Person, 11.8ms\n",
            "video 1/1 (149/226) /content/WhatsApp Video 2023-09-04 at 9.48.07 PM.mp4: 640x352 1 Manager, 1 Person, 12.7ms\n",
            "video 1/1 (150/226) /content/WhatsApp Video 2023-09-04 at 9.48.07 PM.mp4: 640x352 1 Manager, 1 Person, 11.2ms\n",
            "video 1/1 (151/226) /content/WhatsApp Video 2023-09-04 at 9.48.07 PM.mp4: 640x352 1 Person, 16.0ms\n",
            "video 1/1 (152/226) /content/WhatsApp Video 2023-09-04 at 9.48.07 PM.mp4: 640x352 1 Manager, 1 Person, 11.2ms\n",
            "video 1/1 (153/226) /content/WhatsApp Video 2023-09-04 at 9.48.07 PM.mp4: 640x352 1 Manager, 1 Person, 11.6ms\n",
            "video 1/1 (154/226) /content/WhatsApp Video 2023-09-04 at 9.48.07 PM.mp4: 640x352 1 Manager, 1 Person, 12.1ms\n",
            "video 1/1 (155/226) /content/WhatsApp Video 2023-09-04 at 9.48.07 PM.mp4: 640x352 1 Manager, 2 Persons, 11.1ms\n",
            "video 1/1 (156/226) /content/WhatsApp Video 2023-09-04 at 9.48.07 PM.mp4: 640x352 1 Manager, 2 Persons, 12.0ms\n",
            "video 1/1 (157/226) /content/WhatsApp Video 2023-09-04 at 9.48.07 PM.mp4: 640x352 1 Manager, 1 Person, 11.2ms\n",
            "video 1/1 (158/226) /content/WhatsApp Video 2023-09-04 at 9.48.07 PM.mp4: 640x352 1 Manager, 1 Person, 14.1ms\n",
            "video 1/1 (159/226) /content/WhatsApp Video 2023-09-04 at 9.48.07 PM.mp4: 640x352 1 Manager, 1 Person, 12.4ms\n",
            "video 1/1 (160/226) /content/WhatsApp Video 2023-09-04 at 9.48.07 PM.mp4: 640x352 1 Manager, 1 Person, 12.9ms\n",
            "video 1/1 (161/226) /content/WhatsApp Video 2023-09-04 at 9.48.07 PM.mp4: 640x352 1 Manager, 1 Person, 15.9ms\n",
            "video 1/1 (162/226) /content/WhatsApp Video 2023-09-04 at 9.48.07 PM.mp4: 640x352 1 Manager, 1 Person, 13.8ms\n",
            "video 1/1 (163/226) /content/WhatsApp Video 2023-09-04 at 9.48.07 PM.mp4: 640x352 1 Manager, 1 Person, 12.0ms\n",
            "video 1/1 (164/226) /content/WhatsApp Video 2023-09-04 at 9.48.07 PM.mp4: 640x352 1 Manager, 1 Person, 12.4ms\n",
            "video 1/1 (165/226) /content/WhatsApp Video 2023-09-04 at 9.48.07 PM.mp4: 640x352 1 Manager, 1 Person, 12.3ms\n",
            "video 1/1 (166/226) /content/WhatsApp Video 2023-09-04 at 9.48.07 PM.mp4: 640x352 1 Manager, 1 Person, 12.8ms\n",
            "video 1/1 (167/226) /content/WhatsApp Video 2023-09-04 at 9.48.07 PM.mp4: 640x352 1 Manager, 1 Person, 12.3ms\n",
            "video 1/1 (168/226) /content/WhatsApp Video 2023-09-04 at 9.48.07 PM.mp4: 640x352 1 Manager, 1 Person, 13.2ms\n",
            "video 1/1 (169/226) /content/WhatsApp Video 2023-09-04 at 9.48.07 PM.mp4: 640x352 1 Manager, 1 Person, 12.5ms\n",
            "video 1/1 (170/226) /content/WhatsApp Video 2023-09-04 at 9.48.07 PM.mp4: 640x352 2 Managers, 1 Person, 13.9ms\n",
            "video 1/1 (171/226) /content/WhatsApp Video 2023-09-04 at 9.48.07 PM.mp4: 640x352 1 Manager, 1 Person, 12.3ms\n",
            "video 1/1 (172/226) /content/WhatsApp Video 2023-09-04 at 9.48.07 PM.mp4: 640x352 1 Manager, 1 Person, 12.3ms\n",
            "video 1/1 (173/226) /content/WhatsApp Video 2023-09-04 at 9.48.07 PM.mp4: 640x352 1 Manager, 1 Person, 12.1ms\n",
            "video 1/1 (174/226) /content/WhatsApp Video 2023-09-04 at 9.48.07 PM.mp4: 640x352 1 Manager, 1 Person, 12.8ms\n",
            "video 1/1 (175/226) /content/WhatsApp Video 2023-09-04 at 9.48.07 PM.mp4: 640x352 1 Manager, 1 Person, 11.3ms\n",
            "video 1/1 (176/226) /content/WhatsApp Video 2023-09-04 at 9.48.07 PM.mp4: 640x352 1 Manager, 1 Person, 11.4ms\n",
            "video 1/1 (177/226) /content/WhatsApp Video 2023-09-04 at 9.48.07 PM.mp4: 640x352 2 Managers, 11.8ms\n",
            "video 1/1 (178/226) /content/WhatsApp Video 2023-09-04 at 9.48.07 PM.mp4: 640x352 1 Manager, 1 Person, 11.1ms\n",
            "video 1/1 (179/226) /content/WhatsApp Video 2023-09-04 at 9.48.07 PM.mp4: 640x352 1 Manager, 1 Person, 11.4ms\n",
            "video 1/1 (180/226) /content/WhatsApp Video 2023-09-04 at 9.48.07 PM.mp4: 640x352 1 Manager, 1 Person, 11.5ms\n",
            "video 1/1 (181/226) /content/WhatsApp Video 2023-09-04 at 9.48.07 PM.mp4: 640x352 1 Manager, 1 Person, 11.6ms\n",
            "video 1/1 (182/226) /content/WhatsApp Video 2023-09-04 at 9.48.07 PM.mp4: 640x352 1 Person, 11.5ms\n",
            "video 1/1 (183/226) /content/WhatsApp Video 2023-09-04 at 9.48.07 PM.mp4: 640x352 1 Manager, 1 Person, 11.9ms\n",
            "video 1/1 (184/226) /content/WhatsApp Video 2023-09-04 at 9.48.07 PM.mp4: 640x352 1 Person, 11.2ms\n",
            "video 1/1 (185/226) /content/WhatsApp Video 2023-09-04 at 9.48.07 PM.mp4: 640x352 1 Person, 11.1ms\n",
            "video 1/1 (186/226) /content/WhatsApp Video 2023-09-04 at 9.48.07 PM.mp4: 640x352 1 Person, 11.1ms\n",
            "video 1/1 (187/226) /content/WhatsApp Video 2023-09-04 at 9.48.07 PM.mp4: 640x352 1 Manager, 1 Person, 11.1ms\n",
            "video 1/1 (188/226) /content/WhatsApp Video 2023-09-04 at 9.48.07 PM.mp4: 640x352 1 Manager, 1 Person, 11.1ms\n",
            "video 1/1 (189/226) /content/WhatsApp Video 2023-09-04 at 9.48.07 PM.mp4: 640x352 1 Manager, 1 Person, 11.0ms\n",
            "video 1/1 (190/226) /content/WhatsApp Video 2023-09-04 at 9.48.07 PM.mp4: 640x352 1 Manager, 1 Person, 11.0ms\n",
            "video 1/1 (191/226) /content/WhatsApp Video 2023-09-04 at 9.48.07 PM.mp4: 640x352 1 Manager, 1 Person, 11.0ms\n",
            "video 1/1 (192/226) /content/WhatsApp Video 2023-09-04 at 9.48.07 PM.mp4: 640x352 1 Manager, 1 Person, 11.0ms\n",
            "video 1/1 (193/226) /content/WhatsApp Video 2023-09-04 at 9.48.07 PM.mp4: 640x352 1 Manager, 1 Person, 11.1ms\n",
            "video 1/1 (194/226) /content/WhatsApp Video 2023-09-04 at 9.48.07 PM.mp4: 640x352 1 Manager, 1 Person, 11.2ms\n",
            "video 1/1 (195/226) /content/WhatsApp Video 2023-09-04 at 9.48.07 PM.mp4: 640x352 1 Manager, 1 Person, 11.6ms\n",
            "video 1/1 (196/226) /content/WhatsApp Video 2023-09-04 at 9.48.07 PM.mp4: 640x352 2 Managers, 1 Person, 11.6ms\n",
            "video 1/1 (197/226) /content/WhatsApp Video 2023-09-04 at 9.48.07 PM.mp4: 640x352 2 Managers, 11.8ms\n",
            "video 1/1 (198/226) /content/WhatsApp Video 2023-09-04 at 9.48.07 PM.mp4: 640x352 1 Manager, 1 Person, 11.8ms\n",
            "video 1/1 (199/226) /content/WhatsApp Video 2023-09-04 at 9.48.07 PM.mp4: 640x352 1 Manager, 1 Person, 11.7ms\n",
            "video 1/1 (200/226) /content/WhatsApp Video 2023-09-04 at 9.48.07 PM.mp4: 640x352 2 Managers, 1 Person, 11.3ms\n",
            "video 1/1 (201/226) /content/WhatsApp Video 2023-09-04 at 9.48.07 PM.mp4: 640x352 2 Managers, 1 Person, 11.2ms\n",
            "video 1/1 (202/226) /content/WhatsApp Video 2023-09-04 at 9.48.07 PM.mp4: 640x352 1 Manager, 1 Person, 11.1ms\n",
            "video 1/1 (203/226) /content/WhatsApp Video 2023-09-04 at 9.48.07 PM.mp4: 640x352 1 Manager, 1 Person, 11.1ms\n",
            "video 1/1 (204/226) /content/WhatsApp Video 2023-09-04 at 9.48.07 PM.mp4: 640x352 1 Manager, 1 Person, 12.9ms\n",
            "video 1/1 (205/226) /content/WhatsApp Video 2023-09-04 at 9.48.07 PM.mp4: 640x352 1 Manager, 1 Person, 11.0ms\n",
            "video 1/1 (206/226) /content/WhatsApp Video 2023-09-04 at 9.48.07 PM.mp4: 640x352 1 Manager, 1 Person, 11.5ms\n",
            "video 1/1 (207/226) /content/WhatsApp Video 2023-09-04 at 9.48.07 PM.mp4: 640x352 1 Manager, 1 Person, 12.2ms\n",
            "video 1/1 (208/226) /content/WhatsApp Video 2023-09-04 at 9.48.07 PM.mp4: 640x352 1 Manager, 1 Person, 12.1ms\n",
            "video 1/1 (209/226) /content/WhatsApp Video 2023-09-04 at 9.48.07 PM.mp4: 640x352 1 Manager, 1 Person, 11.8ms\n",
            "video 1/1 (210/226) /content/WhatsApp Video 2023-09-04 at 9.48.07 PM.mp4: 640x352 1 Manager, 1 Person, 11.4ms\n",
            "video 1/1 (211/226) /content/WhatsApp Video 2023-09-04 at 9.48.07 PM.mp4: 640x352 1 Manager, 1 Person, 11.2ms\n",
            "video 1/1 (212/226) /content/WhatsApp Video 2023-09-04 at 9.48.07 PM.mp4: 640x352 1 Manager, 1 Person, 11.1ms\n",
            "video 1/1 (213/226) /content/WhatsApp Video 2023-09-04 at 9.48.07 PM.mp4: 640x352 1 Manager, 1 Person, 11.1ms\n",
            "video 1/1 (214/226) /content/WhatsApp Video 2023-09-04 at 9.48.07 PM.mp4: 640x352 1 Manager, 1 Person, 11.0ms\n",
            "video 1/1 (215/226) /content/WhatsApp Video 2023-09-04 at 9.48.07 PM.mp4: 640x352 1 Manager, 1 Person, 11.1ms\n",
            "video 1/1 (216/226) /content/WhatsApp Video 2023-09-04 at 9.48.07 PM.mp4: 640x352 1 Manager, 1 Person, 11.2ms\n",
            "video 1/1 (217/226) /content/WhatsApp Video 2023-09-04 at 9.48.07 PM.mp4: 640x352 1 Manager, 1 Person, 11.1ms\n",
            "video 1/1 (218/226) /content/WhatsApp Video 2023-09-04 at 9.48.07 PM.mp4: 640x352 1 Manager, 1 Person, 11.2ms\n",
            "video 1/1 (219/226) /content/WhatsApp Video 2023-09-04 at 9.48.07 PM.mp4: 640x352 1 Manager, 1 Person, 11.6ms\n",
            "video 1/1 (220/226) /content/WhatsApp Video 2023-09-04 at 9.48.07 PM.mp4: 640x352 1 Person, 11.9ms\n",
            "video 1/1 (221/226) /content/WhatsApp Video 2023-09-04 at 9.48.07 PM.mp4: 640x352 1 Person, 12.1ms\n",
            "video 1/1 (222/226) /content/WhatsApp Video 2023-09-04 at 9.48.07 PM.mp4: 640x352 1 Person, 12.2ms\n",
            "video 1/1 (223/226) /content/WhatsApp Video 2023-09-04 at 9.48.07 PM.mp4: 640x352 1 Person, 12.0ms\n",
            "video 1/1 (224/226) /content/WhatsApp Video 2023-09-04 at 9.48.07 PM.mp4: 640x352 1 Manager, 1 Person, 11.9ms\n",
            "video 1/1 (225/226) /content/WhatsApp Video 2023-09-04 at 9.48.07 PM.mp4: 640x352 1 Manager, 1 Person, 12.1ms\n",
            "video 1/1 (226/226) /content/WhatsApp Video 2023-09-04 at 9.48.07 PM.mp4: 640x352 1 Manager, 1 Person, 11.5ms\n",
            "Speed: 0.4ms pre-process, 12.3ms inference, 1.7ms postprocess per image at shape (1, 3, 640, 640)\n",
            "Results saved to \u001b[1mruns/detect/predict8\u001b[0m\n"
          ]
        }
      ]
    },
    {
      "cell_type": "code",
      "execution_count": null,
      "metadata": {
        "id": "rpLX6Okz5O_Y"
      },
      "outputs": [],
      "source": []
    }
  ]
}